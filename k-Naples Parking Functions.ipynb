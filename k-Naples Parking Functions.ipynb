{
 "cells": [
  {
   "cell_type": "markdown",
   "metadata": {},
   "source": [
    "# Checking Parking Preferences\n",
    "(This code must be run in SageMath, but could be easily converted to be python-compatible).\n"
   ]
  },
  {
   "cell_type": "markdown",
   "metadata": {},
   "source": [
    "The following functions all allow us to check if a given parking preference, x, is a parking function or a k-Naples parking function.\n"
   ]
  },
  {
   "cell_type": "markdown",
   "metadata": {},
   "source": [
    "Before we can check our parking preference, we must account for the fact that most computer programs are zero-based, so the first index in their lists/tuples is zero. This __zero_based__ function scales a typical parking preference so that it is compatible with this zero-based format and will be called in the functions below."
   ]
  },
  {
   "cell_type": "code",
   "execution_count": 45,
   "metadata": {},
   "outputs": [],
   "source": [
    "def zero_based(x):\n",
    "    x = list(x)\n",
    "    for i in range(0,len(x)):\n",
    "        x[i]-= 1       \n",
    "    return x"
   ]
  },
  {
   "cell_type": "markdown",
   "metadata": {},
   "source": [
    "## Is it a parking function?\n",
    "This function determines whether or not a given parking preference is a parking function. It does it by simulation.\n",
    "\n",
    "   __Parameters:__ A parking preference, x. This can be formatted as a tuple or a list. Entries must be integers between 1 and n, where n is the length of the preference. <br>\n",
    "    __Returns:__ True if x is a parking function, false if x is not."
   ]
  },
  {
   "cell_type": "code",
   "execution_count": 46,
   "metadata": {},
   "outputs": [],
   "source": [
    "def is_PF(x):\n",
    "    x = zero_based(x)\n",
    "    #Creates the imaginary parking lot\n",
    "    A = [False]*len(x)\n",
    "    #This loops runs through every cars preference\n",
    "    for i in range(len(x)):\n",
    "        \n",
    "        #If the spot is empty, the car takes it\n",
    "        if A[x[i]] == False:\n",
    "            A[x[i]] = True\n",
    "        \n",
    "        #If the spot is occupied, the car continues forward until it finds an empty spot\n",
    "        else :\n",
    "            y = 0\n",
    "            while(A[x[i] + y]):\n",
    "                y += 1\n",
    "                if x[i] + y == len(x):\n",
    "                    #If it gets to the end and doesn't find an empty spot, function returns false\n",
    "                    return False\n",
    "            A[x[i] + y] = True\n",
    "    \n",
    "    #If the function didn't end, all cars were able to park\n",
    "    return True"
   ]
  },
  {
   "cell_type": "markdown",
   "metadata": {},
   "source": [
    "For example,"
   ]
  },
  {
   "cell_type": "code",
   "execution_count": 47,
   "metadata": {},
   "outputs": [
    {
     "data": {
      "text/plain": [
       "True"
      ]
     },
     "execution_count": 47,
     "metadata": {},
     "output_type": "execute_result"
    }
   ],
   "source": [
    "is_PF((1,1,1))"
   ]
  },
  {
   "cell_type": "code",
   "execution_count": 48,
   "metadata": {},
   "outputs": [
    {
     "data": {
      "text/plain": [
       "False"
      ]
     },
     "execution_count": 48,
     "metadata": {},
     "output_type": "execute_result"
    }
   ],
   "source": [
    "is_PF((4,2,3,3))"
   ]
  },
  {
   "cell_type": "markdown",
   "metadata": {},
   "source": [
    "### Run your test here. Input the parking preference you want to check."
   ]
  },
  {
   "cell_type": "code",
   "execution_count": 49,
   "metadata": {},
   "outputs": [
    {
     "ename": "SyntaxError",
     "evalue": "invalid syntax (<ipython-input-49-ecc1f791b69d>, line 1)",
     "output_type": "error",
     "traceback": [
      "\u001b[0;36m  File \u001b[0;32m\"<ipython-input-49-ecc1f791b69d>\"\u001b[0;36m, line \u001b[0;32m1\u001b[0m\n\u001b[0;31m    is_PF(insert parking preference)\u001b[0m\n\u001b[0m                       ^\u001b[0m\n\u001b[0;31mSyntaxError\u001b[0m\u001b[0;31m:\u001b[0m invalid syntax\n"
     ]
    }
   ],
   "source": [
    "is_PF(insert parking preference)"
   ]
  },
  {
   "cell_type": "markdown",
   "metadata": {},
   "source": [
    "The function below also counts parking functions, but instead of walking through an imaginary lot, it just uses the necessary and sufficent condition for parking functions. <br>\n",
    "    __Parameters:__ A parking preference, x. <br>\n",
    "    __Returns:__ True if x is a parking function, false if x is not."
   ]
  },
  {
   "cell_type": "code",
   "execution_count": 50,
   "metadata": {},
   "outputs": [],
   "source": [
    "def is_PFfast(x):\n",
    "    x = zero_based(x)\n",
    "    A = sorted(x)\n",
    "    \n",
    "    for i in range(len(A)):\n",
    "        if i < A[i]:\n",
    "            return False\n",
    "        \n",
    "    return True"
   ]
  },
  {
   "cell_type": "markdown",
   "metadata": {},
   "source": [
    "For example,"
   ]
  },
  {
   "cell_type": "code",
   "execution_count": 51,
   "metadata": {},
   "outputs": [
    {
     "data": {
      "text/plain": [
       "True"
      ]
     },
     "execution_count": 51,
     "metadata": {},
     "output_type": "execute_result"
    }
   ],
   "source": [
    "is_PFfast((1,3,2,1,5))"
   ]
  },
  {
   "cell_type": "markdown",
   "metadata": {},
   "source": [
    "## Is it a k-Naples parking function?"
   ]
  },
  {
   "cell_type": "markdown",
   "metadata": {},
   "source": [
    "This function checks whether a parking preference, x, is a k-Naples parking function. It does it by simulation\n",
    "<br>\n",
    "    __Parameters:__ A parking preference, x. The number of steps back that each car is allowed, k.  <br>\n",
    "    __Returns:__ True if x is a k-Naples parking function, false if x is not."
   ]
  },
  {
   "cell_type": "code",
   "execution_count": 68,
   "metadata": {},
   "outputs": [],
   "source": [
    "def is_knaples(x,k):\n",
    "    #Creates the \"Parking lot\"\n",
    "    x = zero_based(x)\n",
    "    A = [False]*len(x)\n",
    "    \n",
    "    #For every car it:\n",
    "    for i in range(len(x)):\n",
    "        \n",
    "        #First, checks wether the spot the car wants is occupied\n",
    "        #If it isn't, the car occupies it and we go to the next car\n",
    "        if A[x[i]] == False:\n",
    "            A[x[i]] = True\n",
    "        \n",
    "        #If the preferred spot was full, the car checks back up to k times, then continues forward in search of an\n",
    "        #empty spot\n",
    "        else :\n",
    "            step_back = 1\n",
    "            parked = False\n",
    "\n",
    "            while step_back <= k and x[i]-step_back > -1 and not parked:\n",
    "                if A[x[i] - step_back] == False:\n",
    "                    A[x[i] - step_back] =True\n",
    "                    parked = True\n",
    "\n",
    "                step_back += 1\n",
    "            \n",
    "            \n",
    "            if parked == False:\n",
    "                y = 0\n",
    "                #If the car hasn't parked, it must move forward and check every spot until it either parks or\n",
    "                #reaches the end of the parking lot\n",
    "                while(A[x[i] + y]):\n",
    "                    y += 1\n",
    "                    if x[i] + y == len(x): #Car gets to the end of the lot and doesn't find a spot\n",
    "                        return False #x not a parking function\n",
    "                    \n",
    "                A[x[i] + y] = True #Marks the spot car just parked in as full          \n",
    "    #If we get to this point, all of the cars have parked without a problem. Thus, x is a k-Naples parking function\n",
    "    #and we return True\n",
    "    return True"
   ]
  },
  {
   "cell_type": "markdown",
   "metadata": {},
   "source": [
    "### Run your test here. Input the parking preference you want to check and the desired number of steps back."
   ]
  },
  {
   "cell_type": "code",
   "execution_count": 69,
   "metadata": {},
   "outputs": [
    {
     "data": {
      "text/plain": [
       "False"
      ]
     },
     "execution_count": 69,
     "metadata": {},
     "output_type": "execute_result"
    }
   ],
   "source": [
    "is_knaples([5,5,5,5,5], 3)"
   ]
  },
  {
   "cell_type": "code",
   "execution_count": 70,
   "metadata": {},
   "outputs": [
    {
     "data": {
      "text/plain": [
       "True"
      ]
     },
     "execution_count": 70,
     "metadata": {},
     "output_type": "execute_result"
    }
   ],
   "source": [
    "is_knaples([3,6,3,3,3,5], 2)"
   ]
  },
  {
   "cell_type": "markdown",
   "metadata": {},
   "source": [
    "# Counting k-Naples Parking Functions"
   ]
  },
  {
   "cell_type": "markdown",
   "metadata": {},
   "source": [
    "This function uses our recursive formula to count the number of k_Naples parking function for any given length n, with k steps back.\n",
    "<br>\n",
    "    __Parameters:__ The desired length of the k-Naples parking functions,n. The number of steps back that each car is allowed, k.  <br>\n",
    "    __Returns:__ The cardinality of the set of k-Naples parking functions of length n."
   ]
  },
  {
   "cell_type": "code",
   "execution_count": 71,
   "metadata": {},
   "outputs": [],
   "source": [
    "def recursive_naples(n, k):\n",
    "    #Array that stores the values as to not recompute them\n",
    "    A = [1, 1]\n",
    "    #Starts computing values at 2\n",
    "    for p in range(2,n+1):\n",
    "        counter = 0\n",
    "        \n",
    "        #Computes the recurrence for size p\n",
    "        for x in range(p):\n",
    "\n",
    "            a = binomial(p-1,x)*A[x]*min(p, x+k+1)*(p-x)^(p-x-2) \n",
    "\n",
    "            counter += a\n",
    "            \n",
    "        #Appends the count to the array\n",
    "        A.append(counter)\n",
    "    \n",
    "    #Returns the value of the count in spot n\n",
    "    return int(A[n])\n",
    "    "
   ]
  },
  {
   "cell_type": "markdown",
   "metadata": {},
   "source": [
    "For example,"
   ]
  },
  {
   "cell_type": "code",
   "execution_count": 72,
   "metadata": {},
   "outputs": [
    {
     "data": {
      "text/plain": [
       "46656"
      ]
     },
     "execution_count": 72,
     "metadata": {},
     "output_type": "execute_result"
    }
   ],
   "source": [
    "recursive_naples(6,7)"
   ]
  },
  {
   "cell_type": "markdown",
   "metadata": {},
   "source": [
    "# Generating k-Naples parking functions"
   ]
  },
  {
   "cell_type": "markdown",
   "metadata": {},
   "source": [
    "Below is the code that will generate all the possible parking preferences for a given length n. "
   ]
  },
  {
   "cell_type": "code",
   "execution_count": 73,
   "metadata": {},
   "outputs": [],
   "source": [
    "#Function that recursively generates all the parking preferences\n",
    "def generate_PP(A,i,k, count):    \n",
    "    #Counter\n",
    "    C = 0\n",
    "    #Base case i.e. when the length of the string is n\n",
    "    if i == len(A):\n",
    "        if is_knaples(A, k):\n",
    "            \n",
    "            if count:\n",
    "                return 1\n",
    "            else :\n",
    "                \n",
    "                print (scale(A))\n",
    "               \n",
    "                return 0\n",
    "    #When its not the base case\n",
    "    else :\n",
    "        \n",
    "        #For loop that is able that is used to generate all the parking preferences\n",
    "        for x in range(0,len(A)):\n",
    "            \n",
    "            A[i] = x\n",
    "            C += generate_PP(A, i+1, k,count)\n",
    "    return C\n",
    "\n",
    "\n",
    "def scale(A):\n",
    "    x = [1]*len(A)\n",
    "    return vector(A) + vector(x)\n",
    "\n",
    "\n",
    "#Both of these functions use the \"imaginary parking lot\" to determine whether a preference is k-naples or not\n",
    "#Function that will generate all the k-naples of size n\n",
    "def generate_knaples(n, k):\n",
    "    A = [None]*n\n",
    "    generate_PP(A, 0, k, count=False)\n",
    "    \n",
    "#Function that will give the count of the k-naples of size n\n",
    "def count_knaples(n,k):\n",
    "    A = [None]*n\n",
    "    return generate_PP(A, 0, k, count=True)"
   ]
  },
  {
   "cell_type": "code",
   "execution_count": 74,
   "metadata": {},
   "outputs": [
    {
     "data": {
      "text/plain": [
       "3045"
      ]
     },
     "execution_count": 74,
     "metadata": {},
     "output_type": "execute_result"
    }
   ],
   "source": [
    "count_knaples(5, 2)"
   ]
  },
  {
   "cell_type": "markdown",
   "metadata": {},
   "source": [
    "# Comparing the recursion count to the simulation count\n",
    "Here we can see that for a given k, the values given by simulation and by the recursion are the same"
   ]
  },
  {
   "cell_type": "code",
   "execution_count": 78,
   "metadata": {},
   "outputs": [
    {
     "name": "stdout",
     "output_type": "stream",
     "text": [
      "Simulation Recursion\n",
      "1          1         \n",
      "4          4         \n",
      "27         27        \n",
      "256        240       \n",
      "3045       2731      \n",
      "43754      38034     \n",
      "738709     627405    \n"
     ]
    }
   ],
   "source": [
    "#Given a k\n",
    "k = 2\n",
    "print (\"Simulation\", \"Recursion\")\n",
    "\n",
    "for n in range(1, 8): #We only run this up to n=8, because the simulation takes too long for values greater than 8\n",
    "    print('{0:<10} {1:<10}'.format(count_knaples(n,k), recursive_naples(n,k)))"
   ]
  },
  {
   "cell_type": "markdown",
   "metadata": {},
   "source": [
    "# Generating a table with the cardinality of $PF_{n,k}$"
   ]
  },
  {
   "cell_type": "markdown",
   "metadata": {},
   "source": [
    "This function outputs a table containing the cardinality of $PF_{n,k}$ for varying $n$ and $k$ values.<br>\n",
    "    __Parameters:__ The maximum $n,k$ values desired for the table."
   ]
  },
  {
   "cell_type": "code",
   "execution_count": 79,
   "metadata": {},
   "outputs": [],
   "source": [
    "from prettytable import PrettyTable\n",
    "\n",
    "#Code that generates table using the recursion\n",
    "def generate_table(n):\n",
    "    k = n-1\n",
    "    k_header = [\"\"]\n",
    "    n_header = []\n",
    "    for i in range(1,n+1):\n",
    "        n_header.append(\"n = \" + str(i))\n",
    "    for l in range(0, k+1):\n",
    "        k_header.append(\"k = \" + str(l))\n",
    "    column_names = k_header\n",
    "    x = PrettyTable()\n",
    "    x.add_column(column_names[0], n_header)\n",
    "    for l in range(0,k+1):\n",
    "        if k < n+1:\n",
    "            n_counts = []\n",
    "            for i in range(1,n+1):\n",
    "                if l >= i:\n",
    "                    n_counts.append(\"\")\n",
    "\n",
    "                else:\n",
    "                    n_counts.append(recursive_naples(i,l))\n",
    "            x.add_column(column_names[l+1], n_counts)\n",
    "    \n",
    "    print(x)"
   ]
  },
  {
   "cell_type": "markdown",
   "metadata": {},
   "source": [
    "In order to use this function, just call \"generate_table($n$)\" and insert the max $n$ value that you want your table to have."
   ]
  },
  {
   "cell_type": "markdown",
   "metadata": {},
   "source": [
    "For example,"
   ]
  },
  {
   "cell_type": "code",
   "execution_count": 77,
   "metadata": {},
   "outputs": [
    {
     "name": "stdout",
     "output_type": "stream",
     "text": [
      "+-------+---------+---------+----------+----------+----------+----------+----------+----------+\n",
      "|       |  k = 0  |  k = 1  |  k = 2   |  k = 3   |  k = 4   |  k = 5   |  k = 6   |  k = 7   |\n",
      "+-------+---------+---------+----------+----------+----------+----------+----------+----------+\n",
      "| n = 1 |    1    |         |          |          |          |          |          |          |\n",
      "| n = 2 |    3    |    4    |          |          |          |          |          |          |\n",
      "| n = 3 |    16   |    24   |    27    |          |          |          |          |          |\n",
      "| n = 4 |   125   |   203   |   240    |   256    |          |          |          |          |\n",
      "| n = 5 |   1296  |   2225  |   2731   |   3000   |   3125   |          |          |          |\n",
      "| n = 6 |  16807  |  30067  |  38034   |  42689   |  45360   |  46656   |          |          |\n",
      "| n = 7 |  262144 |  484071 |  627405  |  717051  |  773081  |  806736  |  823543  |          |\n",
      "| n = 8 | 4782969 | 9057316 | 11976466 | 13902752 | 15170350 | 16000823 | 16515072 | 16777216 |\n",
      "+-------+---------+---------+----------+----------+----------+----------+----------+----------+\n"
     ]
    }
   ],
   "source": [
    "generate_table(8)"
   ]
  },
  {
   "cell_type": "code",
   "execution_count": null,
   "metadata": {},
   "outputs": [],
   "source": []
  }
 ],
 "metadata": {
  "kernelspec": {
   "display_name": "SageMath 8.4",
   "language": "",
   "name": "sagemath"
  },
  "language_info": {
   "codemirror_mode": {
    "name": "ipython",
    "version": 2
   },
   "file_extension": ".py",
   "mimetype": "text/x-python",
   "name": "python",
   "nbconvert_exporter": "python",
   "pygments_lexer": "ipython2",
   "version": "2.7.15"
  }
 },
 "nbformat": 4,
 "nbformat_minor": 2
}
